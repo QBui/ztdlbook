{
 "cells": [
  {
   "cell_type": "code",
   "execution_count": 8,
   "metadata": {},
   "outputs": [
    {
     "name": "stdout",
     "output_type": "stream",
     "text": [
      "Congrats! You are using the correct environment\n"
     ]
    }
   ],
   "source": [
    "import os\n",
    "import sys\n",
    "\n",
    "env_name= 'ztdlbook'\n",
    "p = sys.executable\n",
    "try:\n",
    "    assert(p.find(env_name) != -1)\n",
    "    print(\"Congrats! You are using the correct environment\")\n",
    "except Exception as ex:\n",
    "    print(\"It seems you are not using the correct environment.\\n\", \n",
    "         \"Currently runing python from this path: \\n\",\n",
    "         p,\n",
    "         \"Please follow the instructions above and retry.\")\n",
    "    raise ex"
   ]
  },
  {
   "cell_type": "code",
   "execution_count": 7,
   "metadata": {},
   "outputs": [
    {
     "name": "stdout",
     "output_type": "stream",
     "text": [
      "Congrats! You are using the correct version of python\n"
     ]
    }
   ],
   "source": [
    "python_version = '3.6'\n",
    "distribution = 'Anaconda'\n",
    "v = sys.version\n",
    "try:\n",
    "    assert(v.find(python_version) != -1)\n",
    "    assert(v.find(distribution) != -1)\n",
    "    print(\"Congrats! You are using the correct version of python\")\n",
    "except Exception as ex:\n",
    "    print(\"It seems you are not using the correct version of python.\\n\", \n",
    "         \"Currently runing python from this path: \\n\",\n",
    "         v,\n",
    "         \"Please follow the instructions above and retry.\")\n",
    "    raise ex"
   ]
  },
  {
   "cell_type": "code",
   "execution_count": 9,
   "metadata": {},
   "outputs": [
    {
     "name": "stdout",
     "output_type": "stream",
     "text": [
      "Congrats! You are using the jupyter from within the environment\n"
     ]
    }
   ],
   "source": [
    "import jupyter\n",
    "j = jupyter.__file__\n",
    "\n",
    "try:\n",
    "    assert(j.find('jupyter') != -1)\n",
    "    print(\"Congrats! You are using the jupyter from within the environment\")\n",
    "except Exception as ex:\n",
    "    print(\"It seems you are not using the correct version of python.\\n\", \n",
    "         \"Currently runing python from this path: \\n\",\n",
    "         j,\n",
    "         \"Please follow the instructions above and retry.\")\n",
    "    raise ex"
   ]
  },
  {
   "cell_type": "code",
   "execution_count": 14,
   "metadata": {},
   "outputs": [
    {
     "name": "stdout",
     "output_type": "stream",
     "text": [
      "Houson we are go!\n"
     ]
    }
   ],
   "source": [
    "import pip\n",
    "import numpy\n",
    "import jupyter\n",
    "import matplotlib\n",
    "import sklearn\n",
    "import scipy\n",
    "import pandas\n",
    "import PIL\n",
    "import seaborn\n",
    "import h5py\n",
    "import tensorflow\n",
    "import keras\n",
    "import pytest\n",
    "\n",
    "assert(pip.__version__ == '9.0.1')\n",
    "assert(numpy.__version__ == '1.13.3')\n",
    "assert(matplotlib.__version__ == '2.1.0')\n",
    "assert(sklearn.__version__ == '0.19.1')\n",
    "assert(scipy.__version__ == '0.19.1')\n",
    "assert(pandas.__version__ == '0.20.3')\n",
    "assert(PIL.__version__ == '4.2.1')\n",
    "assert(seaborn.__version__ == '0.8.0')\n",
    "assert(h5py.__version__ == '2.7.0')\n",
    "assert(tensorflow.__version__ == '1.3.0')\n",
    "assert(keras.__version__ == '2.1.1')\n",
    "assert(pytest.__version__ == '3.2.1')\n",
    "\n",
    "print('Houson we are go!')\n"
   ]
  },
  {
   "cell_type": "code",
   "execution_count": null,
   "metadata": {},
   "outputs": [],
   "source": []
  }
 ],
 "metadata": {
  "kernelspec": {
   "display_name": "Python 3",
   "language": "python",
   "name": "python3"
  },
  "language_info": {
   "codemirror_mode": {
    "name": "ipython",
    "version": 3
   },
   "file_extension": ".py",
   "mimetype": "text/x-python",
   "name": "python",
   "nbconvert_exporter": "python",
   "pygments_lexer": "ipython3",
   "version": "3.6.3"
  }
 },
 "nbformat": 4,
 "nbformat_minor": 2
}
